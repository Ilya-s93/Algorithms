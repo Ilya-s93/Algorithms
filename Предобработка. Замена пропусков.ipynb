{
 "cells": [
  {
   "cell_type": "code",
   "execution_count": 1,
   "metadata": {},
   "outputs": [],
   "source": [
    "import pandas as pd\n",
    "import numpy as np\n"
   ]
  },
  {
   "cell_type": "code",
   "execution_count": null,
   "metadata": {},
   "outputs": [],
   "source": [
    "#выполним замену NaN в соотвествии с популярным типом кузова для каждого бренда.\n",
    "vehicle_type_pivot_table = auto.pivot_table(index=['VehicleType'], \n",
    "                                                          columns=['Brand'],\n",
    "                                                          values=['Price'],\n",
    "                                                          aggfunc=['count'])\n",
    "\n",
    "auto[auto['Brand'] == 'alfa_romeo']['VehicleType'].value_counts()\n",
    "vehicle_type_pivot_table"
   ]
  },
  {
   "cell_type": "code",
   "execution_count": null,
   "metadata": {},
   "outputs": [],
   "source": [
    "auto.fillna({'VehicleType':0},inplace=True)\n",
    "\n",
    "#функция заменяет пропуски популярным типом кузова для каждого бренда\n",
    "def fill(row, row_number, vehicle_type_pivot_table):\n",
    "    brand = row[7]\n",
    "    fill_value = row[row_number]\n",
    "    if row[row_number] == 0:\n",
    "        fill_value = vehicle_type_pivot_table[brand].idxmax()\n",
    "    return fill_value\n",
    "\n",
    "auto['VehicleType'] = auto.apply(fill, args=[0, vehicle_type_pivot_table], axis=1)\n",
    "auto['VehicleType'].value_counts()"
   ]
  }
 ],
 "metadata": {
  "kernelspec": {
   "display_name": "Python 3",
   "language": "python",
   "name": "python3"
  },
  "language_info": {
   "codemirror_mode": {
    "name": "ipython",
    "version": 3
   },
   "file_extension": ".py",
   "mimetype": "text/x-python",
   "name": "python",
   "nbconvert_exporter": "python",
   "pygments_lexer": "ipython3",
   "version": "3.8.5"
  }
 },
 "nbformat": 4,
 "nbformat_minor": 4
}
