{
 "cells": [
  {
   "cell_type": "code",
   "execution_count": null,
   "id": "1e72eeba",
   "metadata": {},
   "outputs": [],
   "source": [
    "#pip install pdfminer.six\n",
    "#pip install PyPDF2"
   ]
  },
  {
   "cell_type": "code",
   "execution_count": null,
   "id": "a91a312a",
   "metadata": {},
   "outputs": [],
   "source": [
    "import glob\n",
    "from PyPDF2 import PdfFileWriter, PdfFileReader"
   ]
  },
  {
   "cell_type": "code",
   "execution_count": null,
   "id": "24cc0eb0",
   "metadata": {},
   "outputs": [],
   "source": [
    "#объединяем pdf\n",
    "def merger(output_path, input_paths):\n",
    "    pdf_writer = PdfFileWriter()\n",
    "    for path in input_paths:\n",
    "        pdf_reader = PdfFileReader(path)\n",
    "        for page in range(pdf_reader.getNumPages()):\n",
    "            pdf_writer.addPage(pdf_reader.getPage(page))\n",
    "            with open(output_path, 'wb') as fh:\n",
    "                pdf_writer.write(fh)\n",
    "\n",
    "if __name__ == '__main__':\n",
    "    paths = glob.glob('/Users/Smirnov.IA/Project/Auto/Закупочные данные/Объём продаж авто/*.pdf')\n",
    "    #Retrieve all pdfs start with I\n",
    "    paths.sort()\n",
    "    merger('/Users/Smirnov.IA/Project/Auto/Закупочные данные/Объём продаж авто/pdf_merger.pdf', paths)"
   ]
  }
 ],
 "metadata": {
  "kernelspec": {
   "display_name": "Python 3",
   "language": "python",
   "name": "python3"
  },
  "language_info": {
   "codemirror_mode": {
    "name": "ipython",
    "version": 3
   },
   "file_extension": ".py",
   "mimetype": "text/x-python",
   "name": "python",
   "nbconvert_exporter": "python",
   "pygments_lexer": "ipython3",
   "version": "3.8.8"
  }
 },
 "nbformat": 4,
 "nbformat_minor": 5
}
